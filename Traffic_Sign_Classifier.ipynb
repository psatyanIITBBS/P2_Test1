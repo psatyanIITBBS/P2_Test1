{
 "cells": [
  {
   "cell_type": "markdown",
   "metadata": {},
   "source": [
    "# Self-Driving Car Engineer Nanodegree\n",
    "\n",
    "## Deep Learning\n",
    "\n",
    "## Project: Build a Traffic Sign Recognition Classifier\n",
    "\n",
    "In this notebook, a template is provided for you to implement your functionality in stages, which is required to successfully complete this project. If additional code is required that cannot be included in the notebook, be sure that the Python code is successfully imported and included in your submission if necessary. \n",
    "\n",
    "> **Note**: Once you have completed all of the code implementations, you need to finalize your work by exporting the iPython Notebook as an HTML document. Before exporting the notebook to html, all of the code cells need to have been run so that reviewers can see the final implementation and output. You can then export the notebook by using the menu above and navigating to  \\n\",\n",
    "    \"**File -> Download as -> HTML (.html)**. Include the finished document along with this notebook as your submission. \n",
    "\n",
    "In addition to implementing code, there is a writeup to complete. The writeup should be completed in a separate file, which can be either a markdown file or a pdf document. There is a [write up template](https://github.com/udacity/CarND-Traffic-Sign-Classifier-Project/blob/master/writeup_template.md) that can be used to guide the writing process. Completing the code template and writeup template will cover all of the [rubric points](https://review.udacity.com/#!/rubrics/481/view) for this project.\n",
    "\n",
    "The [rubric](https://review.udacity.com/#!/rubrics/481/view) contains \"Stand Out Suggestions\" for enhancing the project beyond the minimum requirements. The stand out suggestions are optional. If you decide to pursue the \"stand out suggestions\", you can include the code in this Ipython notebook and also discuss the results in the writeup file.\n",
    "\n",
    "\n",
    ">**Note:** Code and Markdown cells can be executed using the **Shift + Enter** keyboard shortcut. In addition, Markdown cells can be edited by typically double-clicking the cell to enter edit mode."
   ]
  },
  {
   "cell_type": "markdown",
   "metadata": {},
   "source": [
    "---\n",
    "## Step 0: Load The Data"
   ]
  },
  {
   "cell_type": "code",
   "execution_count": 117,
   "metadata": {},
   "outputs": [],
   "source": [
    "# Load pickled data\n",
    "import pickle\n",
    "import numpy as np\n",
    "from random import randint\n",
    "import array\n",
    "import cv2\n",
    "from sklearn.utils import shuffle\n",
    "import matplotlib.pyplot as plt\n",
    "from random import randint\n",
    "import array\n",
    "import tensorflow as tf\n",
    "# Visualizations will be shown in the notebook.\n",
    "%matplotlib inline\n",
    "import pandas as pd\n",
    "\n",
    "# TODO: Fill this in based on where you saved the training and testing data\n",
    "\n",
    "training_file = \"train.pkl\"\n",
    "validation_file = \"valid.pkl\"\n",
    "testing_file = \"test.pkl\"\n",
    "\n",
    "with open(training_file, mode='rb') as f:\n",
    "    train = pickle.load(f)\n",
    "with open(validation_file, mode='rb') as f:\n",
    "    valid = pickle.load(f)\n",
    "with open(testing_file, mode='rb') as f:\n",
    "    test = pickle.load(f)\n",
    "    \n",
    "X_train_org, y_train_org = train['features'], train['labels']\n",
    "X_valid, y_valid = valid['features'], valid['labels']\n",
    "X_test, y_test = test['features'], test['labels']\n"
   ]
  },
  {
   "cell_type": "markdown",
   "metadata": {},
   "source": [
    "---\n",
    "\n",
    "## Step 1: Dataset Summary & Exploration\n",
    "\n",
    "The pickled data is a dictionary with 4 key/value pairs:\n",
    "\n",
    "- `'features'` is a 4D array containing raw pixel data of the traffic sign images, (num examples, width, height, channels).\n",
    "- `'labels'` is a 1D array containing the label/class id of the traffic sign. The file `signnames.csv` contains id -> name mappings for each id.\n",
    "- `'sizes'` is a list containing tuples, (width, height) representing the original width and height the image.\n",
    "- `'coords'` is a list containing tuples, (x1, y1, x2, y2) representing coordinates of a bounding box around the sign in the image. **THESE COORDINATES ASSUME THE ORIGINAL IMAGE. THE PICKLED DATA CONTAINS RESIZED VERSIONS (32 by 32) OF THESE IMAGES**\n",
    "\n",
    "Complete the basic data summary below. Use python, numpy and/or pandas methods to calculate the data summary rather than hard coding the results. For example, the [pandas shape method](http://pandas.pydata.org/pandas-docs/stable/generated/pandas.DataFrame.shape.html) might be useful for calculating some of the summary results. "
   ]
  },
  {
   "cell_type": "markdown",
   "metadata": {},
   "source": [
    "### Provide a Basic Summary of the Data Set Using Python, Numpy and/or Pandas"
   ]
  },
  {
   "cell_type": "code",
   "execution_count": 118,
   "metadata": {},
   "outputs": [
    {
     "name": "stdout",
     "output_type": "stream",
     "text": [
      "Number of training examples = 34799\n",
      "Number of validation examples = 4410\n",
      "Number of testing examples = 12630\n",
      "Image data shape = (32, 32)\n",
      "Number of classes = 43\n"
     ]
    }
   ],
   "source": [
    "### Replace each question mark with the appropriate value. \n",
    "### Use python, pandas or numpy methods rather than hard coding the results\n",
    "\n",
    "# TODO: Number of training examples\n",
    "n_train = X_train_org.shape[0]\n",
    "\n",
    "# TODO: Number of validation examples\n",
    "n_validation = X_valid.shape[0]\n",
    "\n",
    "# TODO: Number of testing examples.\n",
    "n_test = X_test.shape[0]\n",
    "\n",
    "# TODO: What's the shape of an traffic sign image?\n",
    "image_shape = (X_train_org.shape[1],X_train_org.shape[2])\n",
    "\n",
    "# TODO: How many unique classes/labels there are in the dataset.\n",
    "n_classes = 43\n",
    "\n",
    "print(\"Number of training examples =\", n_train)\n",
    "print(\"Number of validation examples =\", n_validation)\n",
    "print(\"Number of testing examples =\", n_test)\n",
    "print(\"Image data shape =\", image_shape)\n",
    "print(\"Number of classes =\", n_classes)"
   ]
  },
  {
   "cell_type": "markdown",
   "metadata": {},
   "source": [
    "### Include an exploratory visualization of the dataset"
   ]
  },
  {
   "cell_type": "markdown",
   "metadata": {},
   "source": [
    "Visualize the German Traffic Signs Dataset using the pickled file(s). This is open ended, suggestions include: plotting traffic sign images, plotting the count of each sign, etc. \n",
    "\n",
    "The [Matplotlib](http://matplotlib.org/) [examples](http://matplotlib.org/examples/index.html) and [gallery](http://matplotlib.org/gallery.html) pages are a great resource for doing visualizations in Python.\n",
    "\n",
    "**NOTE:** It's recommended you start with something simple first. If you wish to do more, come back to it after you've completed the rest of the sections. It can be interesting to look at the distribution of classes in the training, validation and test set. Is the distribution the same? Are there more examples of some classes than others?"
   ]
  },
  {
   "cell_type": "code",
   "execution_count": 119,
   "metadata": {},
   "outputs": [
    {
     "name": "stdout",
     "output_type": "stream",
     "text": [
      "This belongs to the class:  2\n"
     ]
    },
    {
     "data": {
      "image/png": "[encoded data removed]",
      "text/plain": [
       "<Figure size 432x288 with 1 Axes>"
      ]
     },
     "metadata": {},
     "output_type": "display_data"
    }
   ],
   "source": [
    "### Data exploration visualization code goes here.\n",
    "### Feel free to use as many code cells as needed.\n",
    "def split2Classes(y_data):\n",
    "    SplitClasses = {}\n",
    "    keys = range(n_classes)\n",
    "    for i in keys:\n",
    "        SplitClasses[i] = []\n",
    "    for i in range(len(y_data)):\n",
    "        for j in keys:\n",
    "            if j == y_data[i]:\n",
    "                SplitClasses[j].append(i)\n",
    "    return SplitClasses\n",
    "temp = [] \n",
    "for i in range(n_classes):\n",
    "    temp.append(len(SplitClasses[i]))\n",
    "SplitClasses = split2Classes(y_train_org)\n",
    "CheckClass = 2\n",
    "CheckItem = 170\n",
    "CheckIndex = SplitClasses[CheckClass][CheckItem]\n",
    "plt.imshow(X_train_org[CheckIndex])\n",
    "#plt.figure()\n",
    "#plt.imshow(X_train[CheckIndex][:,:,1])\n",
    "#plt.figure()\n",
    "#plt.imshow(X_train[CheckIndex][:,:,2])\n",
    "print('This belongs to the class: ', y_train_org[CheckIndex])\n",
    "#print((X_train_RGB[CheckIndex][:,:,0]-128)/128)"
   ]
  },
  {
   "cell_type": "code",
   "execution_count": 120,
   "metadata": {},
   "outputs": [],
   "source": [
    "signName = pd.read_csv(\"signnames.csv\")\n",
    "#signName.shape\n",
    "#signName.iloc[0]"
   ]
  },
  {
   "cell_type": "code",
   "execution_count": null,
   "metadata": {},
   "outputs": [],
   "source": []
  },
  {
   "cell_type": "code",
   "execution_count": 121,
   "metadata": {},
   "outputs": [
    {
     "data": {
      "text/plain": [
       "<matplotlib.lines.Line2D at 0x246005793c8>"
      ]
     },
     "execution_count": 121,
     "metadata": {},
     "output_type": "execute_result"
    },
    {
     "data": {
      "image/png": "[encoded data removed]",
      "text/plain": [
       "<Figure size 864x432 with 1 Axes>"
      ]
     },
     "metadata": {},
     "output_type": "display_data"
    }
   ],
   "source": [
    "df = pd.DataFrame([temp])\n",
    "plt.figure(figsize=(12,6))\n",
    "df.iloc[0].plot.bar(x=None); plt.axhline(0, color='k')\n"
   ]
  },
  {
   "cell_type": "code",
   "execution_count": 126,
   "metadata": {},
   "outputs": [
    {
     "name": "stdout",
     "output_type": "stream",
     "text": [
      "This belongs to the class:  0\n",
      "There are 180 items in class 0.\n"
     ]
    },
    {
     "data": {
      "text/plain": [
       "Text(0.5,1,'Speed limit (20km/h)')"
      ]
     },
     "execution_count": 126,
     "metadata": {},
     "output_type": "execute_result"
    },
    {
     "data": {
      "image/png": "[encoded data removed]",
      "text/plain": [
       "<Figure size 432x288 with 1 Axes>"
      ]
     },
     "metadata": {},
     "output_type": "display_data"
    }
   ],
   "source": [
    "### One example of using \"split2Classes\"\n",
    "\n",
    "SplitClasses = split2Classes(y_train_org)\n",
    "\n",
    "CheckClass = 0\n",
    "CheckItem = 111\n",
    "CheckIndex = SplitClasses[CheckClass][CheckItem]\n",
    "\n",
    "print('This belongs to the class: ', y_train_org[CheckIndex])\n",
    "#signName.iloc[y_train_org[CheckIndex],1]\n",
    "print(\"There are {} items in class {}.\".format(len(SplitClasses[CheckClass]), CheckClass))\n",
    "\n",
    "plt.imshow(X_train_org[CheckIndex])\n",
    "plt.title(signName.iloc[y_train_org[CheckIndex],1])"
   ]
  },
  {
   "cell_type": "code",
   "execution_count": 35,
   "metadata": {},
   "outputs": [],
   "source": [
    "### Draws FIVE random samples from a data set X_Draw\n",
    "def drawSamples(X_draw,y_draw):\n",
    "    \n",
    "    fig = plt.figure(figsize=(18, 10))\n",
    "    #X_draw, y_draw = shuffle(X_draw, y_draw)\n",
    "\n",
    "    index = randint(0, len(X_draw))\n",
    "    plt.subplot(151)\n",
    "    plt.imshow(X_draw[index])\n",
    "    plt.title(signName.iloc[y_draw[index],1], fontsize=8)\n",
    "    \n",
    "    index = randint(0, len(X_draw))\n",
    "    plt.subplot(152)\n",
    "    plt.imshow(X_draw[index+1])\n",
    "    plt.title(signName.iloc[y_draw[index],1], fontsize=8)\n",
    "    \n",
    "    index = randint(0, len(X_draw))\n",
    "    plt.subplot(153)\n",
    "    plt.imshow(X_draw[index+2])\n",
    "    plt.title(signName.iloc[y_draw[index],1], fontsize=8)\n",
    "    \n",
    "    index = randint(0, len(X_draw))\n",
    "    plt.subplot(154)\n",
    "    plt.imshow(X_draw[index+3])\n",
    "    plt.title(signName.iloc[y_draw[index],1], fontsize=8)\n",
    "    \n",
    "    index = randint(0, len(X_draw))\n",
    "    plt.subplot(155)\n",
    "    plt.imshow(X_draw[index+4])\n",
    "    plt.title(signName.iloc[y_draw[index],1], fontsize=8)"
   ]
  },
  {
   "cell_type": "markdown",
   "metadata": {},
   "source": [
    "----\n",
    "\n",
    "## Step 2: Design and Test a Model Architecture\n",
    "\n",
    "Design and implement a deep learning model that learns to recognize traffic signs. Train and test your model on the [German Traffic Sign Dataset](http://benchmark.ini.rub.de/?section=gtsrb&subsection=dataset).\n",
    "\n",
    "The LeNet-5 implementation shown in the [classroom](https://classroom.udacity.com/nanodegrees/nd013/parts/fbf77062-5703-404e-b60c-95b78b2f3f9e/modules/6df7ae49-c61c-4bb2-a23e-6527e69209ec/lessons/601ae704-1035-4287-8b11-e2c2716217ad/concepts/d4aca031-508f-4e0b-b493-e7b706120f81) at the end of the CNN lesson is a solid starting point. You'll have to change the number of classes and possibly the preprocessing, but aside from that it's plug and play! \n",
    "\n",
    "With the LeNet-5 solution from the lecture, you should expect a validation set accuracy of about 0.89. To meet specifications, the validation set accuracy will need to be at least 0.93. It is possible to get an even higher accuracy, but 0.93 is the minimum for a successful project submission. \n",
    "\n",
    "There are various aspects to consider when thinking about this problem:\n",
    "\n",
    "- Neural network architecture (is the network over or underfitting?)\n",
    "- Play around preprocessing techniques (normalization, rgb to grayscale, etc)\n",
    "- Number of examples per label (some have more than others).\n",
    "- Generate fake data.\n",
    "\n",
    "Here is an example of a [published baseline model on this problem](http://yann.lecun.com/exdb/publis/pdf/sermanet-ijcnn-11.pdf). It's not required to be familiar with the approach used in the paper but, it's good practice to try to read papers like these."
   ]
  },
  {
   "cell_type": "markdown",
   "metadata": {},
   "source": [
    "### Pre-process the Data Set (normalization, grayscale, etc.)"
   ]
  },
  {
   "cell_type": "markdown",
   "metadata": {},
   "source": [
    "Minimally, the image data should be normalized so that the data has mean zero and equal variance. For image data, `(pixel - 128)/ 128` is a quick way to approximately normalize the data and can be used in this project. \n",
    "\n",
    "Other pre-processing steps are optional. You can try different techniques to see if it improves performance. \n",
    "\n",
    "Use the code cell (or multiple code cells, if necessary) to implement the first step of your project."
   ]
  },
  {
   "cell_type": "code",
   "execution_count": null,
   "metadata": {},
   "outputs": [],
   "source": [
    "### Preprocess the data here. It is required to normalize the data. Other preprocessing steps could include \n",
    "### converting to grayscale, etc.\n",
    "### Feel free to use as many code cells as needed."
   ]
  },
  {
   "cell_type": "code",
   "execution_count": null,
   "metadata": {},
   "outputs": [],
   "source": [
    "def augment_data(dataset, dataset_labels, augementation_factor=1, use_random_rotation=True, use_random_shear=True, use_random_shift=True, use_random_zoom=True):\n",
    "\taugmented_image = []\n",
    "\taugmented_image_labels = []\n",
    "\n",
    "\tfor num in range (0, dataset.shape[0]):\n",
    "\n",
    "\t\tfor i in range(0, augementation_factor):\n",
    "\t\t\t# original image:\n",
    "\t\t\taugmented_image.append(dataset[num])\n",
    "\t\t\taugmented_image_labels.append(dataset_labels[num])\n",
    "\n",
    "\t\t\tif use_random_rotation:\n",
    "\t\t\t\taugmented_image.append(tf.contrib.keras.preprocessing.image.random_rotation(dataset[num], 20, row_axis=0, col_axis=1, channel_axis=2))\n",
    "\t\t\t\taugmented_image_labels.append(dataset_labels[num])\n",
    "\n",
    "\t\t\tif use_random_shear:\n",
    "\t\t\t\taugmented_image.append(tf.contrib.keras.preprocessing.image.random_shear(dataset[num], 0.2, row_axis=0, col_axis=1, channel_axis=2))\n",
    "\t\t\t\taugmented_image_labels.append(dataset_labels[num])\n",
    "\n",
    "\t\t\tif use_random_shift:\n",
    "\t\t\t\taugmented_image.append(tf.contrib.keras.preprocessing.image.random_shift(dataset[num], 0.2, 0.2, row_axis=0, col_axis=1, channel_axis=2))\n",
    "\t\t\t\taugmented_image_labels.append(dataset_labels[num])\n",
    "\n",
    "\t\t\tif use_random_zoom:\n",
    "\t\t\t\taugmented_image.append(tf.contrib.keras.preprocessing.image.random_zoom(dataset[num], 0.5, row_axis=0, col_axis=1, channel_axis=2))\n",
    "\t\t\t\taugmented_image_labels.append(dataset_labels[num])\n",
    "\n",
    "\treturn np.array(augmented_image), np.array(augmented_image_labels)"
   ]
  },
  {
   "cell_type": "code",
   "execution_count": null,
   "metadata": {},
   "outputs": [],
   "source": [
    "X_train_Augmented, y_train_Augmented = augment_data(X_train_org, y_train_org, \n",
    "    augementation_factor=1, use_random_rotation=True, use_random_shear=True, use_random_shift=True, use_random_zoom=False)"
   ]
  },
  {
   "cell_type": "code",
   "execution_count": null,
   "metadata": {},
   "outputs": [],
   "source": [
    "\n",
    "SplitClasses = split2Classes(y_train_Augmented)\n",
    "CheckClass =22\n",
    "CheckItem = 540\n",
    "CheckIndex = SplitClasses[CheckClass][CheckItem]\n",
    "plt.imshow(X_train_Augmented[CheckIndex])\n",
    "for i in range(len(SplitClasses)):\n",
    "    print((len(SplitClasses[i])))"
   ]
  },
  {
   "cell_type": "code",
   "execution_count": 5,
   "metadata": {},
   "outputs": [],
   "source": [
    "def applyCLAHE_single(img):\n",
    "    cpImg = img.copy()\n",
    "    gridsize = 2\n",
    "    # create a CLAHE object (Arguments are optional).\n",
    "    lab = cv2.cvtColor(img, cv2.COLOR_RGB2LAB)\n",
    "    lab_planes = cv2.split(lab)\n",
    "    clahe = cv2.createCLAHE(clipLimit=2.0,tileGridSize=(gridsize,gridsize))\n",
    "    lab_planes[0] = clahe.apply(lab_planes[0])\n",
    "    lab_planes[1] = clahe.apply(lab_planes[1])\n",
    "    lab_planes[2] = clahe.apply(lab_planes[2])\n",
    "    cpImg[:,:,0] = lab_planes[0]\n",
    "    cpImg[:,:,1] = lab_planes[1]\n",
    "    cpImg[:,:,2] = lab_planes[2]\n",
    "    cpImg = cv2.cvtColor(cpImg, cv2.COLOR_LAB2RGB)\n",
    "    return cpImg\n",
    "\n",
    "def applyGRAY_single(img):\n",
    "    cpImg = img.copy()\n",
    "    for i in range(n_train):\n",
    "        cpImg[:,:,0] = cv2.cvtColor(img, cv2.COLOR_RGB2GRAY)\n",
    "        cpImg[:,:,1] = cv2.cvtColor(img, cv2.COLOR_RGB2GRAY)\n",
    "        cpImg[:,:,2] = cv2.cvtColor(img, cv2.COLOR_RGB2GRAY)\n",
    "        return cpImg\n",
    "    \n",
    "def applyHue_single(img):\n",
    "    cpImg = img.copy()\n",
    "    hsv = cv2.cvtColor(img, cv2.COLOR_RGB2HSV)\n",
    "    for i in range(n_train):\n",
    "        cpImg[:,:,0] = hsv[:,:,0]\n",
    "        return cpImg\n",
    "    \n",
    "def applyAChannel_single(img):\n",
    "    cpImg = img.copy()\n",
    "    lab = cv2.cvtColor(img, cv2.COLOR_RGB2LAB)\n",
    "    for i in range(n_train):\n",
    "        cpImg[:,:,1] = lab[:,:,1]\n",
    "        return cpImg"
   ]
  },
  {
   "cell_type": "code",
   "execution_count": 131,
   "metadata": {},
   "outputs": [
    {
     "data": {
      "text/plain": [
       "Text(0.5,1,'Speed limit (20km/h)')"
      ]
     },
     "execution_count": 131,
     "metadata": {},
     "output_type": "execute_result"
    },
    {
     "data": {
      "image/png": "[encoded data removed]",
      "text/plain": [
       "<Figure size 864x432 with 2 Axes>"
      ]
     },
     "metadata": {},
     "output_type": "display_data"
    }
   ],
   "source": [
    "CheckClass = 0\n",
    "CheckItem = 111\n",
    "CheckIndex = SplitClasses[CheckClass][CheckItem]\n",
    "fig = plt.figure(figsize=(12, 6))\n",
    "\n",
    "plt.subplot(121)\n",
    "plt.imshow(X_train_org[CheckIndex])\n",
    "plt.title(signName.iloc[y_train_org[CheckIndex],1])\n",
    "\n",
    "plt.subplot(122)\n",
    "plt.imshow(applyCLAHE_single(X_train_org[CheckIndex]))\n",
    "plt.title(signName.iloc[y_train_org[CheckIndex],1])"
   ]
  },
  {
   "cell_type": "code",
   "execution_count": 133,
   "metadata": {},
   "outputs": [
    {
     "data": {
      "text/plain": [
       "Text(0.5,1,'Speed limit (20km/h)')"
      ]
     },
     "execution_count": 133,
     "metadata": {},
     "output_type": "execute_result"
    },
    {
     "data": {
      "image/png": "[encoded data removed]",
      "text/plain": [
       "<Figure size 864x432 with 2 Axes>"
      ]
     },
     "metadata": {},
     "output_type": "display_data"
    }
   ],
   "source": [
    "CheckClass = 0\n",
    "CheckItem = 111\n",
    "CheckIndex = SplitClasses[CheckClass][CheckItem]\n",
    "fig = plt.figure(figsize=(12, 6))\n",
    "\n",
    "plt.subplot(121)\n",
    "plt.imshow(X_train_org[CheckIndex])\n",
    "plt.title(signName.iloc[y_train_org[CheckIndex],1])\n",
    "\n",
    "plt.subplot(122)\n",
    "plt.imshow(applyGRAY_single(applyCLAHE_single(X_train_org[CheckIndex])))\n",
    "plt.title(signName.iloc[y_train_org[CheckIndex],1])"
   ]
  },
  {
   "cell_type": "code",
   "execution_count": 6,
   "metadata": {},
   "outputs": [],
   "source": [
    "def applyCLAHE(X_data):\n",
    "    temp = X_data.copy()\n",
    "    for i in range(len(X_data)):\n",
    "        temp[i] = applyCLAHE_single(X_data[i])\n",
    "    return temp\n",
    "def applyGRAY(X_data):\n",
    "    temp = X_data.copy()\n",
    "    for i in range(len(X_data)):\n",
    "        temp[i] = applyGRAY_single(X_data[i])\n",
    "    return temp\n",
    "def applyHue(X_data):\n",
    "    temp = X_data.copy()\n",
    "    for i in range(len(X_data)):\n",
    "        temp[i] = applyHue_single(X_data[i])\n",
    "    return temp\n",
    "def applyAChannel(X_data):\n",
    "    temp = X_data.copy()\n",
    "    for i in range(len(X_data)):\n",
    "        temp[i] = applyAChannel_single(X_data[i])\n",
    "    return temp"
   ]
  },
  {
   "cell_type": "code",
   "execution_count": 7,
   "metadata": {},
   "outputs": [],
   "source": [
    "def preprossorPipeline(X_data):\n",
    "    X_data = applyCLAHE(X_data)\n",
    "    X_data = applyGRAY(X_data) \n",
    "    #X_data = applyHue(X_data) \n",
    "    return X_data"
   ]
  },
  {
   "cell_type": "code",
   "execution_count": null,
   "metadata": {},
   "outputs": [],
   "source": [
    "\n",
    "X_train_temp = X_train_Augmented.copy()\n",
    "y_train_temp = y_train_Augmented.copy()\n",
    "count = 0\n",
    "for i in range(n_classes):\n",
    "    print('i = ',i)\n",
    "    print(len(SplitClasses[i]))\n",
    "    for j in range(len(SplitClasses[i])):\n",
    "        CheckIndex = SplitClasses[i][j]\n",
    "        X_train_temp[count] = X_train_Augmented[CheckIndex]\n",
    "        y_train_temp[count] = y_train_Augmented[CheckIndex]\n",
    "        count = count + 1\n",
    "        if j>=1000:\n",
    "            print('j = ',j)\n",
    "            \n",
    "            break\n",
    "print('Total Count = {}'.format(count))"
   ]
  },
  {
   "cell_type": "code",
   "execution_count": null,
   "metadata": {},
   "outputs": [],
   "source": [
    "X_train_modified = X_train_temp[0:count].copy()\n",
    "y_train_modified = y_train_temp[0:count].copy()\n",
    "print(X_train_modified.shape)\n",
    "print(len(y_train_modified))"
   ]
  },
  {
   "cell_type": "code",
   "execution_count": 8,
   "metadata": {},
   "outputs": [],
   "source": [
    "            \n",
    "#X_train_modified = X_train_temp[0:count]\n",
    "#y_train_modified = y_train_temp[0:count]\n",
    "X_train_modified = X_train_org\n",
    "y_train_modified = y_train_org\n",
    "#print(len(X_train_modified))\n",
    "\n",
    "########################################################\n",
    "\n",
    "X_train_modified = preprossorPipeline(X_train_modified)\n",
    "\n",
    "########################################################\n",
    "\n",
    "X_train = X_train_modified.copy()\n",
    "y_train = y_train_modified.copy()\n"
   ]
  },
  {
   "cell_type": "code",
   "execution_count": 162,
   "metadata": {},
   "outputs": [
    {
     "data": {
      "image/png": "[encoded data removed]",
      "text/plain": [
       "<Figure size 1296x720 with 5 Axes>"
      ]
     },
     "metadata": {},
     "output_type": "display_data"
    }
   ],
   "source": [
    "drawSamples(X_train,y_train)"
   ]
  },
  {
   "cell_type": "code",
   "execution_count": 163,
   "metadata": {},
   "outputs": [
    {
     "data": {
      "text/plain": [
       "<matplotlib.image.AxesImage at 0x2460bd62ac8>"
      ]
     },
     "execution_count": 163,
     "metadata": {},
     "output_type": "execute_result"
    },
    {
     "data": {
      "image/png": "[encoded data removed]",
      "text/plain": [
       "<Figure size 432x288 with 1 Axes>"
      ]
     },
     "metadata": {},
     "output_type": "display_data"
    }
   ],
   "source": [
    "SplitClasses = split2Classes(y_train)\n",
    "CheckClass = 13\n",
    "CheckItem = 1\n",
    "CheckIndex = SplitClasses[CheckClass][CheckItem]\n",
    "plt.imshow(X_train[CheckIndex])\n",
    "#for i in range(len(SplitClasses)):\n",
    "    #print((len(SplitClasses[i])))"
   ]
  },
  {
   "cell_type": "markdown",
   "metadata": {},
   "source": [
    "### Model Architecture"
   ]
  },
  {
   "cell_type": "code",
   "execution_count": null,
   "metadata": {},
   "outputs": [],
   "source": [
    "### Define your architecture here.\n",
    "### Feel free to use as many code cells as needed."
   ]
  },
  {
   "cell_type": "code",
   "execution_count": 13,
   "metadata": {},
   "outputs": [],
   "source": [
    "\n",
    "\n",
    "BatchSizeList = [4,4,4,4,8,8,8,8,16,16,16,16,32,32,32,32,64,64,64,64,128,128,128,128]\n",
    "EPOCHS = len(BatchSizeList)\n",
    "\n",
    "#EPOCHS = 2\n",
    "#BATCH_SIZE = 128"
   ]
  },
  {
   "cell_type": "code",
   "execution_count": 14,
   "metadata": {},
   "outputs": [],
   "source": [
    "from tensorflow.contrib.layers import flatten\n",
    "\n",
    "def LeNet(x):    \n",
    "    # Arguments used for tf.truncated_normal, randomly defines variables for the weights and biases for each layer\n",
    "    mu = 0\n",
    "    sigma = 0.1\n",
    "\n",
    "    # TODO: Layer 1: Convolutional. Input = 32x32x3. Output = 28x28x6.\n",
    "    print(x[0])\n",
    "    W = tf.Variable(tf.random_normal([5, 5, 3, 6], mu, sigma))\n",
    "    b = tf.Variable(tf.random_normal([6], mu, sigma))\n",
    "    \n",
    "    x = tf.nn.conv2d(x, W, strides=[1, 1, 1, 1], padding='VALID')\n",
    "    print('After first Conv:', x[0])\n",
    "    x = tf.nn.bias_add(x, b)\n",
    "    # TODO: Activation.\n",
    "    x = tf.nn.relu(x)\n",
    "    # TODO: Pooling. Input = 28x28x6. Output = 14x14x6.\n",
    "    x = tf.nn.max_pool(x,ksize=[1, 2, 2, 1],strides=[1, 2, 2, 1],padding='SAME')\n",
    "    \n",
    "    print('After first Pooling:', x[0])\n",
    "    # TODO: Layer 2: Convolutional. Output = 10x10x16.\n",
    "    W2 = tf.Variable(tf.random_normal([5, 5, 6, 16], mu, sigma))\n",
    "    b2 = tf.Variable(tf.random_normal([16], mu, sigma))\n",
    "    x = tf.nn.conv2d(x, W2, strides=[1, 1, 1, 1], padding='VALID')\n",
    "    print('After Second Conv:', x[0])\n",
    "    x = tf.nn.bias_add(x, b2)\n",
    "    # TODO: Activation.\n",
    "    x = tf.nn.relu(x)\n",
    "    # TODO: Pooling. Input = 10x10x16. Output = 5x5x16.\n",
    "    x = tf.nn.max_pool(x,ksize=[1, 2, 2, 1],strides=[1, 2, 2, 1],padding='SAME')\n",
    "    \n",
    "    # TODO: Flatten. Input = 5x5x16. Output = 400.\n",
    "    fc1 = tf.contrib.layers.flatten(x)\n",
    "    # TODO: Layer 3: Fully Connected. Input = 400. Output = 120.\n",
    "    W = tf.Variable(tf.random_normal([400, 120], mu, sigma))\n",
    "    b = tf.Variable(tf.random_normal([120], mu, sigma))\n",
    "    fc1 = tf.add(tf.matmul(fc1, W), b)\n",
    "    # TODO: Activation.\n",
    "    fc1 = tf.nn.relu(fc1)\n",
    "    \n",
    "    # TODO: Layer 4: Fully Connected. Input = 120. Output = 84.\n",
    "    W = tf.Variable(tf.random_normal([120, 84], mu, sigma))\n",
    "    b = tf.Variable(tf.random_normal([84], mu, sigma))\n",
    "    fc1 = tf.add(tf.matmul(fc1, W), b)\n",
    "    # TODO: Activation.\n",
    "    fc1 = tf.nn.relu(fc1)\n",
    "    #fc1 = tf.nn.dropout(fc1, 0.5)\n",
    "    # TODO: Layer 5: Fully Connected. Input = 84. Output = 43.\n",
    "    W = tf.Variable(tf.random_normal([84, 43], mu, sigma))\n",
    "    b = tf.Variable(tf.random_normal([43], mu, sigma))\n",
    "    \n",
    "    logits = tf.add(tf.matmul(fc1, W), b)\n",
    "                 \n",
    "    return logits"
   ]
  },
  {
   "cell_type": "code",
   "execution_count": 15,
   "metadata": {},
   "outputs": [],
   "source": [
    "x = tf.placeholder(tf.float32, (None, 32, 32, 3))\n",
    "y = tf.placeholder(tf.int32, (None))\n",
    "one_hot_y = tf.one_hot(y, 43)"
   ]
  },
  {
   "cell_type": "code",
   "execution_count": 16,
   "metadata": {},
   "outputs": [
    {
     "name": "stdout",
     "output_type": "stream",
     "text": [
      "Tensor(\"strided_slice:0\", shape=(32, 32, 3), dtype=float32)\n",
      "After first Conv: Tensor(\"strided_slice_1:0\", shape=(28, 28, 6), dtype=float32)\n",
      "After first Pooling: Tensor(\"strided_slice_2:0\", shape=(14, 14, 6), dtype=float32)\n",
      "After Second Conv: Tensor(\"strided_slice_3:0\", shape=(10, 10, 16), dtype=float32)\n",
      "WARNING:tensorflow:From <ipython-input-16-b596b158afca>:4: softmax_cross_entropy_with_logits (from tensorflow.python.ops.nn_ops) is deprecated and will be removed in a future version.\n",
      "Instructions for updating:\n",
      "\n",
      "Future major versions of TensorFlow will allow gradients to flow\n",
      "into the labels input on backprop by default.\n",
      "\n",
      "See @{tf.nn.softmax_cross_entropy_with_logits_v2}.\n",
      "\n"
     ]
    }
   ],
   "source": [
    "rate = 0.0005\n",
    "#print(x[0])\n",
    "logits = LeNet(x)\n",
    "cross_entropy = tf.nn.softmax_cross_entropy_with_logits(labels=one_hot_y, logits=logits)\n",
    "loss_operation = tf.reduce_mean(cross_entropy)\n",
    "optimizer = tf.train.AdamOptimizer(learning_rate = rate)\n",
    "training_operation = optimizer.minimize(loss_operation)"
   ]
  },
  {
   "cell_type": "code",
   "execution_count": 17,
   "metadata": {},
   "outputs": [],
   "source": [
    "correct_prediction = tf.equal(tf.argmax(logits, 1), tf.argmax(one_hot_y, 1))\n",
    "accuracy_operation = tf.reduce_mean(tf.cast(correct_prediction, tf.float32))\n",
    "saver = tf.train.Saver()\n",
    "\n",
    "def evaluate(X_data, y_data):\n",
    "    num_examples = len(X_data)\n",
    "    total_accuracy = 0\n",
    "    sess = tf.get_default_session()\n",
    "    for offset in range(0, num_examples, BATCH_SIZE):\n",
    "        batch_x, batch_y = X_data[offset:offset+BATCH_SIZE], y_data[offset:offset+BATCH_SIZE]\n",
    "        accuracy = sess.run(accuracy_operation, feed_dict={x: batch_x, y: batch_y})\n",
    "        total_accuracy += (accuracy * len(batch_x))\n",
    "    return total_accuracy / num_examples"
   ]
  },
  {
   "cell_type": "markdown",
   "metadata": {},
   "source": [
    "### Train, Validate and Test the Model"
   ]
  },
  {
   "cell_type": "markdown",
   "metadata": {},
   "source": [
    "A validation set can be used to assess how well the model is performing. A low accuracy on the training and validation\n",
    "sets imply underfitting. A high accuracy on the training set but low accuracy on the validation set implies overfitting."
   ]
  },
  {
   "cell_type": "code",
   "execution_count": null,
   "metadata": {},
   "outputs": [],
   "source": [
    "### Train your model here.\n",
    "### Calculate and report the accuracy on the training and validation set.\n",
    "### Once a final model architecture is selected, \n",
    "### the accuracy on the test set should be calculated and reported as well.\n",
    "### Feel free to use as many code cells as needed."
   ]
  },
  {
   "cell_type": "code",
   "execution_count": 20,
   "metadata": {},
   "outputs": [
    {
     "name": "stdout",
     "output_type": "stream",
     "text": [
      "INFO:tensorflow:Restoring parameters from ./lenet\n",
      "Training...\n",
      "\n",
      "Batch size =  2048\n",
      "Accuracy decreased. Rate decreased by 5 percent. New Rate = 0.000800\n",
      "EPOCH 1 ...\n",
      "Validation Accuracy = 0.939\n",
      "\n",
      "Batch size =  2048\n",
      "Accuracy decreased. Rate decreased by 5 percent. New Rate = 0.000800\n",
      "EPOCH 2 ...\n",
      "Validation Accuracy = 0.938\n",
      "\n",
      "Batch size =  2048\n",
      "Accuracy decreased. Rate decreased by 5 percent. New Rate = 0.000800\n",
      "EPOCH 3 ...\n",
      "Validation Accuracy = 0.938\n",
      "\n",
      "Batch size =  2048\n",
      "Accuracy decreased. Rate decreased by 5 percent. New Rate = 0.000800\n",
      "EPOCH 4 ...\n",
      "Validation Accuracy = 0.937\n",
      "\n",
      "Batch size =  2048\n",
      "Accuracy decreased. Rate decreased by 5 percent. New Rate = 0.000800\n",
      "EPOCH 5 ...\n",
      "Validation Accuracy = 0.937\n",
      "\n",
      "Batch size =  2048\n",
      "Accuracy decreased. Rate decreased by 5 percent. New Rate = 0.000800\n",
      "EPOCH 6 ...\n",
      "Validation Accuracy = 0.937\n",
      "\n",
      "Batch size =  2048\n",
      "Accuracy decreased. Rate decreased by 5 percent. New Rate = 0.000800\n",
      "EPOCH 7 ...\n",
      "Validation Accuracy = 0.937\n",
      "\n",
      "Batch size =  2048\n",
      "Accuracy decreased. Rate decreased by 5 percent. New Rate = 0.000800\n",
      "EPOCH 8 ...\n",
      "Validation Accuracy = 0.937\n",
      "\n",
      "Batch size =  2048\n",
      "Accuracy decreased. Rate decreased by 5 percent. New Rate = 0.000800\n",
      "EPOCH 9 ...\n",
      "Validation Accuracy = 0.937\n",
      "\n",
      "Batch size =  2048\n",
      "Accuracy decreased. Rate decreased by 5 percent. New Rate = 0.000800\n",
      "EPOCH 10 ...\n",
      "Validation Accuracy = 0.937\n",
      "\n",
      "Batch size =  2048\n",
      "Accuracy decreased. Rate decreased by 5 percent. New Rate = 0.000800\n",
      "EPOCH 11 ...\n",
      "Validation Accuracy = 0.937\n",
      "\n",
      "Batch size =  2048\n",
      "Accuracy decreased. Rate decreased by 5 percent. New Rate = 0.000800\n",
      "EPOCH 12 ...\n",
      "Validation Accuracy = 0.937\n",
      "\n",
      "Batch size =  2048\n",
      "Accuracy decreased. Rate decreased by 5 percent. New Rate = 0.000800\n",
      "EPOCH 13 ...\n",
      "Validation Accuracy = 0.937\n",
      "\n",
      "Batch size =  2048\n"
     ]
    },
    {
     "ename": "KeyboardInterrupt",
     "evalue": "",
     "output_type": "error",
     "traceback": [
      "\u001b[1;31m---------------------------------------------------------------------------\u001b[0m",
      "\u001b[1;31mKeyboardInterrupt\u001b[0m                         Traceback (most recent call last)",
      "\u001b[1;32m<ipython-input-20-063a9ab29150>\u001b[0m in \u001b[0;36m<module>\u001b[1;34m()\u001b[0m\n\u001b[0;32m     24\u001b[0m             \u001b[0mend\u001b[0m \u001b[1;33m=\u001b[0m \u001b[0moffset\u001b[0m \u001b[1;33m+\u001b[0m \u001b[0mBATCH_SIZE\u001b[0m\u001b[1;33m\u001b[0m\u001b[0m\n\u001b[0;32m     25\u001b[0m             \u001b[0mbatch_x\u001b[0m\u001b[1;33m,\u001b[0m \u001b[0mbatch_y\u001b[0m \u001b[1;33m=\u001b[0m \u001b[0mX_train\u001b[0m\u001b[1;33m[\u001b[0m\u001b[0moffset\u001b[0m\u001b[1;33m:\u001b[0m\u001b[0mend\u001b[0m\u001b[1;33m]\u001b[0m\u001b[1;33m,\u001b[0m \u001b[0my_train\u001b[0m\u001b[1;33m[\u001b[0m\u001b[0moffset\u001b[0m\u001b[1;33m:\u001b[0m\u001b[0mend\u001b[0m\u001b[1;33m]\u001b[0m\u001b[1;33m\u001b[0m\u001b[0m\n\u001b[1;32m---> 26\u001b[1;33m             \u001b[0msess\u001b[0m\u001b[1;33m.\u001b[0m\u001b[0mrun\u001b[0m\u001b[1;33m(\u001b[0m\u001b[0mtraining_operation\u001b[0m\u001b[1;33m,\u001b[0m \u001b[0mfeed_dict\u001b[0m\u001b[1;33m=\u001b[0m\u001b[1;33m{\u001b[0m\u001b[0mx\u001b[0m\u001b[1;33m:\u001b[0m \u001b[0mbatch_x\u001b[0m\u001b[1;33m,\u001b[0m \u001b[0my\u001b[0m\u001b[1;33m:\u001b[0m \u001b[0mbatch_y\u001b[0m\u001b[1;33m}\u001b[0m\u001b[1;33m)\u001b[0m\u001b[1;33m\u001b[0m\u001b[0m\n\u001b[0m\u001b[0;32m     27\u001b[0m \u001b[1;33m\u001b[0m\u001b[0m\n\u001b[0;32m     28\u001b[0m         \u001b[0mvalidation_accuracy\u001b[0m \u001b[1;33m=\u001b[0m \u001b[0mevaluate\u001b[0m\u001b[1;33m(\u001b[0m\u001b[0mX_valid\u001b[0m\u001b[1;33m,\u001b[0m \u001b[0my_valid\u001b[0m\u001b[1;33m)\u001b[0m\u001b[1;33m\u001b[0m\u001b[0m\n",
      "\u001b[1;32md:\\program files\\python36\\lib\\site-packages\\tensorflow\\python\\client\\session.py\u001b[0m in \u001b[0;36mrun\u001b[1;34m(self, fetches, feed_dict, options, run_metadata)\u001b[0m\n\u001b[0;32m    898\u001b[0m     \u001b[1;32mtry\u001b[0m\u001b[1;33m:\u001b[0m\u001b[1;33m\u001b[0m\u001b[0m\n\u001b[0;32m    899\u001b[0m       result = self._run(None, fetches, feed_dict, options_ptr,\n\u001b[1;32m--> 900\u001b[1;33m                          run_metadata_ptr)\n\u001b[0m\u001b[0;32m    901\u001b[0m       \u001b[1;32mif\u001b[0m \u001b[0mrun_metadata\u001b[0m\u001b[1;33m:\u001b[0m\u001b[1;33m\u001b[0m\u001b[0m\n\u001b[0;32m    902\u001b[0m         \u001b[0mproto_data\u001b[0m \u001b[1;33m=\u001b[0m \u001b[0mtf_session\u001b[0m\u001b[1;33m.\u001b[0m\u001b[0mTF_GetBuffer\u001b[0m\u001b[1;33m(\u001b[0m\u001b[0mrun_metadata_ptr\u001b[0m\u001b[1;33m)\u001b[0m\u001b[1;33m\u001b[0m\u001b[0m\n",
      "\u001b[1;32md:\\program files\\python36\\lib\\site-packages\\tensorflow\\python\\client\\session.py\u001b[0m in \u001b[0;36m_run\u001b[1;34m(self, handle, fetches, feed_dict, options, run_metadata)\u001b[0m\n\u001b[0;32m   1133\u001b[0m     \u001b[1;32mif\u001b[0m \u001b[0mfinal_fetches\u001b[0m \u001b[1;32mor\u001b[0m \u001b[0mfinal_targets\u001b[0m \u001b[1;32mor\u001b[0m \u001b[1;33m(\u001b[0m\u001b[0mhandle\u001b[0m \u001b[1;32mand\u001b[0m \u001b[0mfeed_dict_tensor\u001b[0m\u001b[1;33m)\u001b[0m\u001b[1;33m:\u001b[0m\u001b[1;33m\u001b[0m\u001b[0m\n\u001b[0;32m   1134\u001b[0m       results = self._do_run(handle, final_targets, final_fetches,\n\u001b[1;32m-> 1135\u001b[1;33m                              feed_dict_tensor, options, run_metadata)\n\u001b[0m\u001b[0;32m   1136\u001b[0m     \u001b[1;32melse\u001b[0m\u001b[1;33m:\u001b[0m\u001b[1;33m\u001b[0m\u001b[0m\n\u001b[0;32m   1137\u001b[0m       \u001b[0mresults\u001b[0m \u001b[1;33m=\u001b[0m \u001b[1;33m[\u001b[0m\u001b[1;33m]\u001b[0m\u001b[1;33m\u001b[0m\u001b[0m\n",
      "\u001b[1;32md:\\program files\\python36\\lib\\site-packages\\tensorflow\\python\\client\\session.py\u001b[0m in \u001b[0;36m_do_run\u001b[1;34m(self, handle, target_list, fetch_list, feed_dict, options, run_metadata)\u001b[0m\n\u001b[0;32m   1314\u001b[0m     \u001b[1;32mif\u001b[0m \u001b[0mhandle\u001b[0m \u001b[1;32mis\u001b[0m \u001b[1;32mNone\u001b[0m\u001b[1;33m:\u001b[0m\u001b[1;33m\u001b[0m\u001b[0m\n\u001b[0;32m   1315\u001b[0m       return self._do_call(_run_fn, feeds, fetches, targets, options,\n\u001b[1;32m-> 1316\u001b[1;33m                            run_metadata)\n\u001b[0m\u001b[0;32m   1317\u001b[0m     \u001b[1;32melse\u001b[0m\u001b[1;33m:\u001b[0m\u001b[1;33m\u001b[0m\u001b[0m\n\u001b[0;32m   1318\u001b[0m       \u001b[1;32mreturn\u001b[0m \u001b[0mself\u001b[0m\u001b[1;33m.\u001b[0m\u001b[0m_do_call\u001b[0m\u001b[1;33m(\u001b[0m\u001b[0m_prun_fn\u001b[0m\u001b[1;33m,\u001b[0m \u001b[0mhandle\u001b[0m\u001b[1;33m,\u001b[0m \u001b[0mfeeds\u001b[0m\u001b[1;33m,\u001b[0m \u001b[0mfetches\u001b[0m\u001b[1;33m)\u001b[0m\u001b[1;33m\u001b[0m\u001b[0m\n",
      "\u001b[1;32md:\\program files\\python36\\lib\\site-packages\\tensorflow\\python\\client\\session.py\u001b[0m in \u001b[0;36m_do_call\u001b[1;34m(self, fn, *args)\u001b[0m\n\u001b[0;32m   1320\u001b[0m   \u001b[1;32mdef\u001b[0m \u001b[0m_do_call\u001b[0m\u001b[1;33m(\u001b[0m\u001b[0mself\u001b[0m\u001b[1;33m,\u001b[0m \u001b[0mfn\u001b[0m\u001b[1;33m,\u001b[0m \u001b[1;33m*\u001b[0m\u001b[0margs\u001b[0m\u001b[1;33m)\u001b[0m\u001b[1;33m:\u001b[0m\u001b[1;33m\u001b[0m\u001b[0m\n\u001b[0;32m   1321\u001b[0m     \u001b[1;32mtry\u001b[0m\u001b[1;33m:\u001b[0m\u001b[1;33m\u001b[0m\u001b[0m\n\u001b[1;32m-> 1322\u001b[1;33m       \u001b[1;32mreturn\u001b[0m \u001b[0mfn\u001b[0m\u001b[1;33m(\u001b[0m\u001b[1;33m*\u001b[0m\u001b[0margs\u001b[0m\u001b[1;33m)\u001b[0m\u001b[1;33m\u001b[0m\u001b[0m\n\u001b[0m\u001b[0;32m   1323\u001b[0m     \u001b[1;32mexcept\u001b[0m \u001b[0merrors\u001b[0m\u001b[1;33m.\u001b[0m\u001b[0mOpError\u001b[0m \u001b[1;32mas\u001b[0m \u001b[0me\u001b[0m\u001b[1;33m:\u001b[0m\u001b[1;33m\u001b[0m\u001b[0m\n\u001b[0;32m   1324\u001b[0m       \u001b[0mmessage\u001b[0m \u001b[1;33m=\u001b[0m \u001b[0mcompat\u001b[0m\u001b[1;33m.\u001b[0m\u001b[0mas_text\u001b[0m\u001b[1;33m(\u001b[0m\u001b[0me\u001b[0m\u001b[1;33m.\u001b[0m\u001b[0mmessage\u001b[0m\u001b[1;33m)\u001b[0m\u001b[1;33m\u001b[0m\u001b[0m\n",
      "\u001b[1;32md:\\program files\\python36\\lib\\site-packages\\tensorflow\\python\\client\\session.py\u001b[0m in \u001b[0;36m_run_fn\u001b[1;34m(feed_dict, fetch_list, target_list, options, run_metadata)\u001b[0m\n\u001b[0;32m   1305\u001b[0m       \u001b[0mself\u001b[0m\u001b[1;33m.\u001b[0m\u001b[0m_extend_graph\u001b[0m\u001b[1;33m(\u001b[0m\u001b[1;33m)\u001b[0m\u001b[1;33m\u001b[0m\u001b[0m\n\u001b[0;32m   1306\u001b[0m       return self._call_tf_sessionrun(\n\u001b[1;32m-> 1307\u001b[1;33m           options, feed_dict, fetch_list, target_list, run_metadata)\n\u001b[0m\u001b[0;32m   1308\u001b[0m \u001b[1;33m\u001b[0m\u001b[0m\n\u001b[0;32m   1309\u001b[0m     \u001b[1;32mdef\u001b[0m \u001b[0m_prun_fn\u001b[0m\u001b[1;33m(\u001b[0m\u001b[0mhandle\u001b[0m\u001b[1;33m,\u001b[0m \u001b[0mfeed_dict\u001b[0m\u001b[1;33m,\u001b[0m \u001b[0mfetch_list\u001b[0m\u001b[1;33m)\u001b[0m\u001b[1;33m:\u001b[0m\u001b[1;33m\u001b[0m\u001b[0m\n",
      "\u001b[1;32md:\\program files\\python36\\lib\\site-packages\\tensorflow\\python\\client\\session.py\u001b[0m in \u001b[0;36m_call_tf_sessionrun\u001b[1;34m(self, options, feed_dict, fetch_list, target_list, run_metadata)\u001b[0m\n\u001b[0;32m   1407\u001b[0m       return tf_session.TF_SessionRun_wrapper(\n\u001b[0;32m   1408\u001b[0m           \u001b[0mself\u001b[0m\u001b[1;33m.\u001b[0m\u001b[0m_session\u001b[0m\u001b[1;33m,\u001b[0m \u001b[0moptions\u001b[0m\u001b[1;33m,\u001b[0m \u001b[0mfeed_dict\u001b[0m\u001b[1;33m,\u001b[0m \u001b[0mfetch_list\u001b[0m\u001b[1;33m,\u001b[0m \u001b[0mtarget_list\u001b[0m\u001b[1;33m,\u001b[0m\u001b[1;33m\u001b[0m\u001b[0m\n\u001b[1;32m-> 1409\u001b[1;33m           run_metadata)\n\u001b[0m\u001b[0;32m   1410\u001b[0m     \u001b[1;32melse\u001b[0m\u001b[1;33m:\u001b[0m\u001b[1;33m\u001b[0m\u001b[0m\n\u001b[0;32m   1411\u001b[0m       \u001b[1;32mwith\u001b[0m \u001b[0merrors\u001b[0m\u001b[1;33m.\u001b[0m\u001b[0mraise_exception_on_not_ok_status\u001b[0m\u001b[1;33m(\u001b[0m\u001b[1;33m)\u001b[0m \u001b[1;32mas\u001b[0m \u001b[0mstatus\u001b[0m\u001b[1;33m:\u001b[0m\u001b[1;33m\u001b[0m\u001b[0m\n",
      "\u001b[1;31mKeyboardInterrupt\u001b[0m: "
     ]
    }
   ],
   "source": [
    "from sklearn.utils import shuffle\n",
    "\n",
    "with tf.Session() as sess:\n",
    "    #sess.run(tf.global_variables_initializer())\n",
    "    \n",
    "    save_file_prev = './lenet'\n",
    "    saver.restore(sess, save_file_prev)\n",
    "    #saver.restore(sess, tf.train.latest_checkpoint('.'))\n",
    "    \n",
    "    num_examples = len(X_train)\n",
    "    \n",
    "    print(\"Training...\")\n",
    "    print()\n",
    "    validation_accuracy_prev = 0.940\n",
    "    rate = 0.0008\n",
    "    fail_count = 0\n",
    "    EPOCHS = 400\n",
    "    BATCH_SIZE = 2048\n",
    "    for i in range(EPOCHS):\n",
    "        #BATCH_SIZE = BatchSizeList[i]\n",
    "        print('Batch size = ',BATCH_SIZE)\n",
    "        X_train, y_train = shuffle(X_train, y_train)\n",
    "        for offset in range(0, num_examples, BATCH_SIZE):\n",
    "            end = offset + BATCH_SIZE\n",
    "            batch_x, batch_y = X_train[offset:end], y_train[offset:end]\n",
    "            sess.run(training_operation, feed_dict={x: batch_x, y: batch_y})\n",
    "            \n",
    "        validation_accuracy = evaluate(X_valid, y_valid)\n",
    "        if validation_accuracy > validation_accuracy_prev:\n",
    "            validation_accuracy_prev = validation_accuracy\n",
    "            #rate = rate*1.05\n",
    "            fail_count = 0\n",
    "            print(\"Accuracy increased. Rate increased by 5 percent. New Rate = {:.6f}\".format(rate))\n",
    "            saver.save(sess, './lenet')\n",
    "            print(\"Model saved\")\n",
    "        else:\n",
    "            fail_count = fail_count + 1\n",
    "            #if fail_count == 3:\n",
    "                #BATCH_SIZE = int(BATCH_SIZE*1.5)\n",
    "                #fail_count = 0\n",
    "            #rate = rate*0.95\n",
    "            print(\"Accuracy decreased. Rate decreased by 5 percent. New Rate = {:.6f}\".format(rate))\n",
    "        print(\"EPOCH {} ...\".format(i+1))\n",
    "        print(\"Validation Accuracy = {:.3f}\".format(validation_accuracy))\n",
    "        print()\n",
    "        \n",
    "    #saver.save(sess, './lenet')\n",
    "    #saver.save(sess, './MyFirst_4_8.ckpt')\n",
    "    #print(\"Model saved\")"
   ]
  },
  {
   "cell_type": "code",
   "execution_count": 137,
   "metadata": {},
   "outputs": [
    {
     "name": "stdout",
     "output_type": "stream",
     "text": [
      "INFO:tensorflow:Restoring parameters from ./lenet\n",
      "Training Set Accuracy = 0.998\n",
      "Validation Set Accuracy = 0.940\n",
      "Test Set Accuracy = 0.912\n"
     ]
    }
   ],
   "source": [
    "with tf.Session() as sess:\n",
    "    #sess.run(tf.global_variables_initializer())\n",
    "    \n",
    "    save_file_prev = './lenet'\n",
    "    saver.restore(sess, save_file_prev)\n",
    "    #saver.restore(sess, tf.train.latest_checkpoint('.'))\n",
    "    X_train, y_train = shuffle(X_train, y_train)\n",
    "    training_accuracy = evaluate(X_train, y_train)\n",
    "    print(\"Training Set Accuracy = {:.3f}\".format(training_accuracy))\n",
    "    \n",
    "    X_valid, y_valid = shuffle(X_valid, y_valid)\n",
    "    validation_accuracy = evaluate(X_valid, y_valid)\n",
    "    print(\"Validation Set Accuracy = {:.3f}\".format(validation_accuracy))\n",
    "    \n",
    "    X_test, y_test = shuffle(X_test, y_test)\n",
    "    testing_accuracy = evaluate(X_test, y_test)\n",
    "    print(\"Test Set Accuracy = {:.3f}\".format(testing_accuracy))"
   ]
  },
  {
   "cell_type": "markdown",
   "metadata": {},
   "source": [
    "---\n",
    "\n",
    "## Step 3: Test a Model on New Images\n",
    "\n",
    "To give yourself more insight into how your model is working, download at least five pictures of German traffic signs from the web and use your model to predict the traffic sign type.\n",
    "\n",
    "You may find `signnames.csv` useful as it contains mappings from the class id (integer) to the actual sign name."
   ]
  },
  {
   "cell_type": "markdown",
   "metadata": {},
   "source": [
    "### Load and Output the Images"
   ]
  },
  {
   "cell_type": "code",
   "execution_count": null,
   "metadata": {},
   "outputs": [],
   "source": [
    "### Load the images and plot them here.\n",
    "### Feel free to use as many code cells as needed.\n"
   ]
  },
  {
   "cell_type": "code",
   "execution_count": 193,
   "metadata": {},
   "outputs": [],
   "source": [
    "def draw5samples(X_draw,y_draw):\n",
    "\n",
    "    index = int(randint(0, len(X_test)))\n",
    "\n",
    "    fig = plt.figure(figsize=(18, 10))\n",
    "\n",
    "    plt.subplot(151)\n",
    "    plt.imshow(X_draw[index])\n",
    "    plt.title(signName.iloc[y_draw[index],1], fontsize=8)\n",
    "\n",
    "    plt.subplot(152)\n",
    "    plt.imshow(X_draw[index+1])\n",
    "    plt.title(signName.iloc[y_draw[index+1],1], fontsize=8)\n",
    "\n",
    "    plt.subplot(153)\n",
    "    plt.imshow(X_draw[index+2])\n",
    "    plt.title(signName.iloc[y_draw[index+2],1], fontsize=8)\n",
    "\n",
    "    plt.subplot(154)\n",
    "    plt.imshow(X_draw[index+3])\n",
    "    plt.title(signName.iloc[y_draw[index+3],1], fontsize=8)\n",
    "\n",
    "    plt.subplot(155)\n",
    "    plt.imshow(X_draw[index+4])\n",
    "    plt.title(signName.iloc[y_draw[index+4],1], fontsize=8)\n",
    "    return index"
   ]
  },
  {
   "cell_type": "code",
   "execution_count": 194,
   "metadata": {},
   "outputs": [
    {
     "data": {
      "image/png": "[encoded data removed]",
      "text/plain": [
       "<Figure size 1296x720 with 5 Axes>"
      ]
     },
     "metadata": {},
     "output_type": "display_data"
    }
   ],
   "source": [
    "index = int(draw5samples(X_test,y_test))"
   ]
  },
  {
   "cell_type": "markdown",
   "metadata": {},
   "source": [
    "### Predict the Sign Type for Each Image"
   ]
  },
  {
   "cell_type": "code",
   "execution_count": null,
   "metadata": {},
   "outputs": [],
   "source": [
    "### Run the predictions here and use the model to output the prediction for each image.\n",
    "### Make sure to pre-process the images with the same pre-processing pipeline used earlier.\n",
    "### Feel free to use as many code cells as needed.\n"
   ]
  },
  {
   "cell_type": "code",
   "execution_count": 195,
   "metadata": {},
   "outputs": [
    {
     "name": "stdout",
     "output_type": "stream",
     "text": [
      "INFO:tensorflow:Restoring parameters from .\\lenet\n",
      "Actual Class =  [19  9  6  2 33]\n",
      "Predictions =  [19  3  6  2 33]\n",
      "Predictions_truthvalue =  [ True False  True  True  True]\n",
      "Test Accuracy = 80.0%\n"
     ]
    }
   ],
   "source": [
    "from random import randint\n",
    "with tf.Session() as sess:\n",
    "    saver.restore(sess, tf.train.latest_checkpoint('.'))\n",
    "    #save_file_prev = './lenet'\n",
    "    #saver.restore(sess, save_file_prev)\n",
    "    #Preprocessing Pipeline ################################\n",
    "    X_test_final = preprossorPipeline(X_test[index:index+5])\n",
    "    \n",
    "    ############################################\n",
    "    predictions = sess.run(tf.argmax(logits, 1), feed_dict={x: X_test_final, y: y_test[index:index+5]})\n",
    "    predictions_truthvalue = sess.run(correct_prediction, feed_dict={x: X_test[index:index+5], y: y_test[index:index+5]})\n",
    "    test_accuracy = evaluate(X_test[index:index+5], y_test[index:index+5])\n",
    "    print(\"Actual Class = \", y_test[index:index+5])\n",
    "    print(\"Predictions = \", predictions)\n",
    "    print(\"Predictions_truthvalue = \", predictions_truthvalue)\n",
    "    print(\"Test Accuracy = {:.1f}%\".format(100*test_accuracy))"
   ]
  },
  {
   "cell_type": "code",
   "execution_count": 184,
   "metadata": {},
   "outputs": [
    {
     "data": {
      "text/plain": [
       "Text(0.5,1,'Yield')"
      ]
     },
     "execution_count": 184,
     "metadata": {},
     "output_type": "execute_result"
    },
    {
     "data": {
      "image/png": "[encoded data removed]",
      "text/plain": [
       "<Figure size 1296x720 with 5 Axes>"
      ]
     },
     "metadata": {},
     "output_type": "display_data"
    }
   ],
   "source": [
    "from PIL import Image\n",
    "\n",
    "basewidth = 32\n",
    "img1 = Image.open('./examples/Traffic_sign_32.png')\n",
    "#img2 = Image.open('./examples/Traffic_sign_35.png')\n",
    "img2 = Image.open('./examples/Right.png')\n",
    "#img3 = Image.open('./examples/Traffic_sign_15.png')\n",
    "img3 = Image.open('./examples/Work.jpg')\n",
    "img4 = Image.open('./examples/Traffic_sign_26.png')\n",
    "img5 = Image.open('./examples/Traffic_sign_31.png')\n",
    "\n",
    "wpercent = (basewidth/float(img.size[0]))\n",
    "hsize = int((float(img.size[1])*float(wpercent)))\n",
    "\n",
    "img1 = img1.resize((basewidth,hsize), Image.ANTIALIAS)\n",
    "img2 = img2.resize((basewidth,hsize), Image.ANTIALIAS)\n",
    "img3 = img3.resize((basewidth,hsize), Image.ANTIALIAS)\n",
    "img4 = img4.resize((basewidth,hsize), Image.ANTIALIAS)\n",
    "img5 = img5.resize((basewidth,hsize), Image.ANTIALIAS)\n",
    "\n",
    "fig = plt.figure(figsize=(18, 10))\n",
    "\n",
    "plt.subplot(151)\n",
    "img1.save('Traffic_sign_32_resized.png')\n",
    "plt.imshow(img1)\n",
    "signName.iloc[0]\n",
    "plt.title(signName.iloc[14,1], fontsize=8)\n",
    "\n",
    "plt.subplot(152)\n",
    "img2.save('Traffic_sign_35_resized.png')\n",
    "plt.imshow(img2)\n",
    "plt.title(signName.iloc[33,1], fontsize=8)\n",
    "\n",
    "plt.subplot(153)\n",
    "img3.save('Traffic_sign_15_resized.png')\n",
    "plt.imshow(img3)\n",
    "plt.title(signName.iloc[25,1], fontsize=8)\n",
    "\n",
    "plt.subplot(154)\n",
    "img4.save('Traffic_sign_26_resized.png')\n",
    "plt.imshow(img4)\n",
    "plt.title(signName.iloc[31,1], fontsize=8)\n",
    "\n",
    "plt.subplot(155)\n",
    "img5.save('Traffic_sign_31_resized.png')\n",
    "plt.imshow(img5)\n",
    "plt.title(signName.iloc[13,1], fontsize=8)"
   ]
  },
  {
   "cell_type": "code",
   "execution_count": 185,
   "metadata": {},
   "outputs": [
    {
     "name": "stdout",
     "output_type": "stream",
     "text": [
      "INFO:tensorflow:Restoring parameters from .\\lenet\n",
      "(5,)\n",
      "Actual Class =  [14 33 25 31 13]\n",
      "Predictions =  [14 33 25 31 13]\n",
      "Predictions_truthvalue =  [ True  True  True  True  True]\n",
      "Test Accuracy = 100.0%\n"
     ]
    }
   ],
   "source": [
    "from random import randint\n",
    "with tf.Session() as sess:\n",
    "    saver.restore(sess, tf.train.latest_checkpoint('.'))\n",
    "    #save_file_prev = './lenet'\n",
    "    #saver.restore(sess, save_file_prev)\n",
    "    #Preprocessing Pipeline ################################\n",
    "    X_test_new = X_test[index:index+5].copy()\n",
    "    y_test_new = y_test[index:index+5]\n",
    "    y_test_new[0] = 14\n",
    "    y_test_new[1] = 33\n",
    "    y_test_new[2] = 25\n",
    "    y_test_new[3] = 31\n",
    "    y_test_new[4] = 13\n",
    "    \n",
    "    X_test_new[0] = img1\n",
    "    X_test_new[1] = img2\n",
    "    X_test_new[2] = img3\n",
    "    X_test_new[3] = img4\n",
    "    X_test_new[4] = img5\n",
    "    print(y_test_new.shape)\n",
    "    X_test_new = preprossorPipeline(X_test_new)\n",
    "    \n",
    "    ############################################\n",
    "    predictions = sess.run(tf.argmax(logits, 1), feed_dict={x: X_test_new, y: y_test_new})\n",
    "    predictions_truthvalue = sess.run(correct_prediction, feed_dict={x: X_test_new, y: y_test_new})\n",
    "    test_accuracy = evaluate(X_test_new, y_test_new)\n",
    "    print(\"Actual Class = \", y_test_new)\n",
    "    print(\"Predictions = \", predictions)\n",
    "    print(\"Predictions_truthvalue = \", predictions_truthvalue)\n",
    "    print(\"Test Accuracy = {:.1f}%\".format(100*test_accuracy))"
   ]
  },
  {
   "cell_type": "markdown",
   "metadata": {},
   "source": [
    "### Analyze Performance"
   ]
  },
  {
   "cell_type": "code",
   "execution_count": null,
   "metadata": {},
   "outputs": [],
   "source": [
    "### Calculate the accuracy for these 5 new images. \n",
    "### For example, if the model predicted 1 out of 5 signs correctly, it's 20% accurate on these new images."
   ]
  },
  {
   "cell_type": "markdown",
   "metadata": {},
   "source": [
    "### Output Top 5 Softmax Probabilities For Each Image Found on the Web"
   ]
  },
  {
   "cell_type": "markdown",
   "metadata": {},
   "source": [
    "For each of the new images, print out the model's softmax probabilities to show the **certainty** of the model's predictions (limit the output to the top 5 probabilities for each image). [`tf.nn.top_k`](https://www.tensorflow.org/versions/r0.12/api_docs/python/nn.html#top_k) could prove helpful here. \n",
    "\n",
    "The example below demonstrates how tf.nn.top_k can be used to find the top k predictions for each image.\n",
    "\n",
    "`tf.nn.top_k` will return the values and indices (class ids) of the top k predictions. So if k=3, for each sign, it'll return the 3 largest probabilities (out of a possible 43) and the correspoding class ids.\n",
    "\n",
    "Take this numpy array as an example. The values in the array represent predictions. The array contains softmax probabilities for five candidate images with six possible classes. `tf.nn.top_k` is used to choose the three classes with the highest probability:\n",
    "\n",
    "```\n",
    "# (5, 6) array\n",
    "a = np.array([[ 0.24879643,  0.07032244,  0.12641572,  0.34763842,  0.07893497,\n",
    "         0.12789202],\n",
    "       [ 0.28086119,  0.27569815,  0.08594638,  0.0178669 ,  0.18063401,\n",
    "         0.15899337],\n",
    "       [ 0.26076848,  0.23664738,  0.08020603,  0.07001922,  0.1134371 ,\n",
    "         0.23892179],\n",
    "       [ 0.11943333,  0.29198961,  0.02605103,  0.26234032,  0.1351348 ,\n",
    "         0.16505091],\n",
    "       [ 0.09561176,  0.34396535,  0.0643941 ,  0.16240774,  0.24206137,\n",
    "         0.09155967]])\n",
    "```\n",
    "\n",
    "Running it through `sess.run(tf.nn.top_k(tf.constant(a), k=3))` produces:\n",
    "\n",
    "```\n",
    "TopKV2(values=array([[ 0.34763842,  0.24879643,  0.12789202],\n",
    "       [ 0.28086119,  0.27569815,  0.18063401],\n",
    "       [ 0.26076848,  0.23892179,  0.23664738],\n",
    "       [ 0.29198961,  0.26234032,  0.16505091],\n",
    "       [ 0.34396535,  0.24206137,  0.16240774]]), indices=array([[3, 0, 5],\n",
    "       [0, 1, 4],\n",
    "       [0, 5, 1],\n",
    "       [1, 3, 5],\n",
    "       [1, 4, 3]], dtype=int32))\n",
    "```\n",
    "\n",
    "Looking just at the first row we get `[ 0.34763842,  0.24879643,  0.12789202]`, you can confirm these are the 3 largest probabilities in `a`. You'll also notice `[3, 0, 5]` are the corresponding indices."
   ]
  },
  {
   "cell_type": "code",
   "execution_count": 196,
   "metadata": {},
   "outputs": [
    {
     "name": "stdout",
     "output_type": "stream",
     "text": [
      "INFO:tensorflow:Restoring parameters from .\\lenet\n",
      "LargeSM =  TopKV2(values=array([[1.0000000e+00, 0.0000000e+00, 0.0000000e+00, 0.0000000e+00,\n",
      "        0.0000000e+00],\n",
      "       [1.0000000e+00, 3.1377088e-09, 3.0929512e-11, 7.4455533e-17,\n",
      "        1.6983834e-18],\n",
      "       [1.0000000e+00, 2.6765254e-16, 2.9322113e-21, 1.0415992e-28,\n",
      "        1.0949305e-37],\n",
      "       [1.0000000e+00, 0.0000000e+00, 0.0000000e+00, 0.0000000e+00,\n",
      "        0.0000000e+00],\n",
      "       [1.0000000e+00, 0.0000000e+00, 0.0000000e+00, 0.0000000e+00,\n",
      "        0.0000000e+00]], dtype=float32), indices=array([[14,  0,  1,  2,  3],\n",
      "       [33, 29, 18, 27, 28],\n",
      "       [25, 36, 10, 29, 12],\n",
      "       [31,  0,  1,  2,  3],\n",
      "       [13,  0,  1,  2,  3]]))\n"
     ]
    }
   ],
   "source": [
    "### Print out the top five softmax probabilities for the predictions on the German traffic sign images found on the web. \n",
    "### Feel free to use as many code cells as needed.\n",
    "with tf.Session() as sess:\n",
    "    saver.restore(sess, tf.train.latest_checkpoint('.'))\n",
    "    SoftMax = sess.run(tf.nn.softmax(logits), feed_dict={x: X_test_new, y: y_test_new})\n",
    "    #probs = tf.nn.softmax(SoftMax)\n",
    "    LargeSM = sess.run(tf.nn.top_k(tf.constant(SoftMax), k=5))\n",
    "    print(\"LargeSM = \", LargeSM)\n",
    "    "
   ]
  },
  {
   "cell_type": "markdown",
   "metadata": {},
   "source": [
    "### Project Writeup\n",
    "\n",
    "Once you have completed the code implementation, document your results in a project writeup using this [template](https://github.com/udacity/CarND-Traffic-Sign-Classifier-Project/blob/master/writeup_template.md) as a guide. The writeup can be in a markdown or pdf file. "
   ]
  },
  {
   "cell_type": "markdown",
   "metadata": {},
   "source": [
    "> **Note**: Once you have completed all of the code implementations and successfully answered each question above, you may finalize your work by exporting the iPython Notebook as an HTML document. You can do this by using the menu above and navigating to  \\n\",\n",
    "    \"**File -> Download as -> HTML (.html)**. Include the finished document along with this notebook as your submission."
   ]
  },
  {
   "cell_type": "markdown",
   "metadata": {},
   "source": [
    "---\n",
    "\n",
    "## Step 4 (Optional): Visualize the Neural Network's State with Test Images\n",
    "\n",
    " This Section is not required to complete but acts as an additional excersise for understaning the output of a neural network's weights. While neural networks can be a great learning device they are often referred to as a black box. We can understand what the weights of a neural network look like better by plotting their feature maps. After successfully training your neural network you can see what it's feature maps look like by plotting the output of the network's weight layers in response to a test stimuli image. From these plotted feature maps, it's possible to see what characteristics of an image the network finds interesting. For a sign, maybe the inner network feature maps react with high activation to the sign's boundary outline or to the contrast in the sign's painted symbol.\n",
    "\n",
    " Provided for you below is the function code that allows you to get the visualization output of any tensorflow weight layer you want. The inputs to the function should be a stimuli image, one used during training or a new one you provided, and then the tensorflow variable name that represents the layer's state during the training process, for instance if you wanted to see what the [LeNet lab's](https://classroom.udacity.com/nanodegrees/nd013/parts/fbf77062-5703-404e-b60c-95b78b2f3f9e/modules/6df7ae49-c61c-4bb2-a23e-6527e69209ec/lessons/601ae704-1035-4287-8b11-e2c2716217ad/concepts/d4aca031-508f-4e0b-b493-e7b706120f81) feature maps looked like for it's second convolutional layer you could enter conv2 as the tf_activation variable.\n",
    "\n",
    "For an example of what feature map outputs look like, check out NVIDIA's results in their paper [End-to-End Deep Learning for Self-Driving Cars](https://devblogs.nvidia.com/parallelforall/deep-learning-self-driving-cars/) in the section Visualization of internal CNN State. NVIDIA was able to show that their network's inner weights had high activations to road boundary lines by comparing feature maps from an image with a clear path to one without. Try experimenting with a similar test to show that your trained network's weights are looking for interesting features, whether it's looking at differences in feature maps from images with or without a sign, or even what feature maps look like in a trained network vs a completely untrained one on the same sign image.\n",
    "\n",
    "<figure>\n",
    " <img src=\"visualize_cnn.png\" width=\"380\" alt=\"Combined Image\" />\n",
    " <figcaption>\n",
    " <p></p> \n",
    " <p style=\"text-align: center;\"> Your output should look something like this (above)</p> \n",
    " </figcaption>\n",
    "</figure>\n",
    " <p></p> \n"
   ]
  },
  {
   "cell_type": "code",
   "execution_count": null,
   "metadata": {},
   "outputs": [],
   "source": [
    "### Visualize your network's feature maps here.\n",
    "### Feel free to use as many code cells as needed.\n",
    "\n",
    "# image_input: the test image being fed into the network to produce the feature maps\n",
    "# tf_activation: should be a tf variable name used during your training procedure that represents the calculated state of a specific weight layer\n",
    "# activation_min/max: can be used to view the activation contrast in more detail, by default matplot sets min and max to the actual min and max values of the output\n",
    "# plt_num: used to plot out multiple different weight feature map sets on the same block, just extend the plt number for each new feature map entry\n",
    "\n",
    "def outputFeatureMap(image_input, tf_activation, activation_min=-1, activation_max=-1 ,plt_num=1):\n",
    "    # Here make sure to preprocess your image_input in a way your network expects\n",
    "    # with size, normalization, ect if needed\n",
    "    # image_input =\n",
    "    # Note: x should be the same name as your network's tensorflow data placeholder variable\n",
    "    # If you get an error tf_activation is not defined it may be having trouble accessing the variable from inside a function\n",
    "    activation = tf_activation.eval(session=sess,feed_dict={x : image_input})\n",
    "    featuremaps = activation.shape[3]\n",
    "    plt.figure(plt_num, figsize=(15,15))\n",
    "    for featuremap in range(featuremaps):\n",
    "        plt.subplot(6,8, featuremap+1) # sets the number of feature maps to show on each row and column\n",
    "        plt.title('FeatureMap ' + str(featuremap)) # displays the feature map number\n",
    "        if activation_min != -1 & activation_max != -1:\n",
    "            plt.imshow(activation[0,:,:, featuremap], interpolation=\"nearest\", vmin =activation_min, vmax=activation_max, cmap=\"gray\")\n",
    "        elif activation_max != -1:\n",
    "            plt.imshow(activation[0,:,:, featuremap], interpolation=\"nearest\", vmax=activation_max, cmap=\"gray\")\n",
    "        elif activation_min !=-1:\n",
    "            plt.imshow(activation[0,:,:, featuremap], interpolation=\"nearest\", vmin=activation_min, cmap=\"gray\")\n",
    "        else:\n",
    "            plt.imshow(activation[0,:,:, featuremap], interpolation=\"nearest\", cmap=\"gray\")"
   ]
  }
 ],
 "metadata": {
  "anaconda-cloud": {},
  "kernelspec": {
   "display_name": "Python 3",
   "language": "python",
   "name": "python3"
  },
  "language_info": {
   "codemirror_mode": {
    "name": "ipython",
    "version": 3
   },
   "file_extension": ".py",
   "mimetype": "text/x-python",
   "name": "python",
   "nbconvert_exporter": "python",
   "pygments_lexer": "ipython3",
   "version": "3.6.4"
  }
 },
 "nbformat": 4,
 "nbformat_minor": 1
}
